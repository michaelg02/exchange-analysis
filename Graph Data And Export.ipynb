{
 "cells": [
  {
   "cell_type": "code",
   "execution_count": null,
   "id": "ac08de0d",
   "metadata": {},
   "outputs": [],
   "source": [
    "pip install -r requirements.txt"
   ]
  },
  {
   "cell_type": "code",
   "execution_count": null,
   "id": "3cd4c6cf",
   "metadata": {},
   "outputs": [],
   "source": [
    "%run -i 'gather_tickers.py'"
   ]
  },
  {
   "cell_type": "code",
   "execution_count": null,
   "id": "1eeb9b48",
   "metadata": {},
   "outputs": [],
   "source": [
    "## Graph plots\n",
    "\n",
    "import time \n",
    "import finplot as fplt\n",
    "import numpy as np\n",
    "import pandas as pd\n",
    "import cbpro\n",
    "import talib\n",
    "\n",
    "#[60, 300, 900, 3600, 21600, 86400]\n",
    "public_client = cbpro.PublicClient()\n",
    "acceptedGrans = {\"1m\":60,\"5m\":300,\"15m\":900,\"1h\":3600,\"6h\":21600,\"1d\":86400}\n",
    "\n",
    "ids = input(\"Please enter product id(s), comma separated i.e.'ETH-BTC,LINK-ETH': \")\n",
    "start = input(\"Start date in yyyy-mm-dd format: \")\n",
    "end = input(\"End date in yyyy-mm-dd format: \")\n",
    "granularity = input(\"Enter timeframe: [1m,5m,15m,1h,6h,1d]: \")\n",
    "\n",
    "# To hard code.\n",
    "# ids=\"ETH-BTC,LINK-ETH\"\n",
    "# start =\"2021-01-01\"\n",
    "# end = \"2021-06-01\"\n",
    "# granularity= \"1d\"\n",
    "\n",
    "\n",
    "gran = acceptedGrans[str(granularity)]\n",
    "\n",
    "product_ids_to_add = ids.split(\",\")\n",
    "\n",
    "\n",
    "ohlcv_dictonary = {}\n",
    "for product_id in product_ids_to_add:\n",
    "    ohlcv = public_client.get_product_historic_rates(product_id,start,end,gran)\n",
    "    df = pd.DataFrame(ohlcv, columns = ['time', 'low','high','open','close','volume']) \n",
    "    # create two axes\n",
    "    ax,ax2 = fplt.create_plot(product_id, rows=2)\n",
    "\n",
    "    # plot candle sticks\n",
    "    candles = df[['time','open','close','high','low']]\n",
    "    fplt.candlestick_ochl(candles, ax=ax)\n",
    "    \n",
    "    #Plot volume\n",
    "    volumes = df[['time','open','close','volume']]\n",
    "    fplt.volume_ocv(volumes, ax=ax.overlay())\n",
    "    \n",
    "    \n",
    "    ohlcv_dictonary[str(product_id)]= ohlcv\n",
    "    time.sleep(1)# Don't want to send too many requests at a time to the public coinbase api\n",
    "    \n",
    "fplt.show()\n",
    "\n"
   ]
  },
  {
   "cell_type": "code",
   "execution_count": null,
   "id": "9898f604",
   "metadata": {},
   "outputs": [],
   "source": []
  }
 ],
 "metadata": {
  "kernelspec": {
   "display_name": "marketanalysis",
   "language": "python",
   "name": "marketanalysis"
  },
  "language_info": {
   "codemirror_mode": {
    "name": "ipython",
    "version": 3
   },
   "file_extension": ".py",
   "mimetype": "text/x-python",
   "name": "python",
   "nbconvert_exporter": "python",
   "pygments_lexer": "ipython3",
   "version": "3.9.0"
  }
 },
 "nbformat": 4,
 "nbformat_minor": 5
}
