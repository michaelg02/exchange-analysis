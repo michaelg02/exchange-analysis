{
 "cells": [
  {
   "cell_type": "code",
   "execution_count": null,
   "id": "21d1c2c4",
   "metadata": {},
   "outputs": [],
   "source": [
    "pip install -r requirements.txt"
   ]
  },
  {
   "cell_type": "code",
   "execution_count": null,
   "id": "bde23fff",
   "metadata": {},
   "outputs": [],
   "source": [
    "# Get Product ids from coinbase api\n",
    "%run -i 'gather_tickers.py'"
   ]
  },
  {
   "cell_type": "code",
   "execution_count": null,
   "id": "4c57e231",
   "metadata": {},
   "outputs": [],
   "source": [
    "## Run technical analysis and pattern analysis on historical data\n",
    "## Requires talib installation to run\n",
    "## Adding a few basic indicators for the sake of test but can easily add more\n",
    "\n",
    "import time \n",
    "import numpy as np\n",
    "import pandas as pd\n",
    "import cbpro\n",
    "import talib\n",
    "import datetime\n",
    "import utils.validator as v\n",
    "\n",
    "public_client = cbpro.PublicClient()\n",
    "acceptedGrans = {\"1m\":60,\"5m\":300,\"15m\":900,\"1h\":3600,\"6h\":21600,\"1d\":86400}\n",
    "\n",
    "\n",
    "# For the sake of simplicity we will fail over if the requested data set is too big.\n",
    "# For an enhanced product, including if we  \n",
    "ids = input(\"Please enter product id(s), comma separated i.e.'ETH-BTC,LINK-ETH': \")\n",
    "start = input(\"Start date in yyyy-mm-dd format: \")\n",
    "end = input(\"End date in yyyy-mm-dd format: \")\n",
    "granularity = input(\"Enter timeframe: [1m,5m,15m,1h,6h,1d]: \")\n",
    "\n",
    "#Hardcoded\n",
    "# ids=\"ETH-BTC,LINK-ETH\"\n",
    "# start =\"2021-01-01\"\n",
    "# end = \"2021-06-01\"\n",
    "# granularity= \"1d\"\n",
    "\n",
    "\n",
    "gran = acceptedGrans[str(granularity)]\n",
    "\n",
    "product_ids_to_add = ids.split(\",\")\n",
    "\n",
    "# Creating a dictionary for future comparisons of data streams\n",
    "ohlcv_dictonary = {}\n",
    "for product_id in product_ids_to_add:\n",
    "    ohlcv = public_client.get_product_historic_rates(product_id,start,end,gran)\n",
    "    df = pd.DataFrame(ohlcv, columns = ['time', 'low','high','open','close','volume']) \n",
    "\n",
    "    ohlcv_dictonary[str(product_id)]= df\n",
    "\n",
    "    #DOJI Technical pattern\n",
    "    CDL3BLACKCROWS = talib.CDL3BLACKCROWS(df['open'], df['high'], df['low'], df['close'])\n",
    "    MFI = talib.MFI(df['high'], df['low'], df['close'], df['volume'], timeperiod=14)\n",
    "    doji = talib.CDLDOJI(df['open'], df['high'], df['low'], df['close'])\n",
    "    ohlcv_dictonary[str(product_id)][\"doji_count\"] = doji[doji!=0].size\n",
    "    print(product_id + \" has \" + str(doji[doji!=0].size) + \" doji candles from \" + start + \" to \" + end + \" on the \" + granularity + \".\"  )\n",
    "\n",
    "    #Cycle indicator\n",
    "    real = talib.HT_DCPHASE(df['close'])\n",
    "    print(product_id + \" has \" + str(real[real>100].size) + \" candles above 250 hilbert dominant phase from \" + start + \" to \" + end + \" on the \" + granularity + \".\"  )\n",
    "\n",
    "    #Volume indicators\n",
    "    onbalancevolume = talib.OBV(df['close'], df['volume'])\n",
    "    chaikinadoscillator = talib.ADOSC(df['high'], df['low'], df['close'], df['volume'], fastperiod=3, slowperiod=10)\n",
    "    \n",
    "    \n",
    "\n",
    "    time.sleep(1)# Don't want to send too many requests at a time to the public coinbase api\n",
    "\n",
    "\n",
    "\n",
    "\n"
   ]
  },
  {
   "cell_type": "code",
   "execution_count": null,
   "id": "45a82be2",
   "metadata": {},
   "outputs": [],
   "source": [
    "# Export chart data to csv.\n",
    "import zipfile\n",
    "import os\n",
    "if not os.path.exists('output'):\n",
    "    os.makedirs('output')\n",
    "\n",
    "    \n",
    "zipname= ids+\"_from_\"+start+\"_to_\"+end+\".zip\"\n",
    "with zipfile.ZipFile(\"output/\"+zipname, 'w') as csv_zip:\n",
    "    for key in ohlcv_dictonary:\n",
    "        dataframe_to_write = ohlcv_dictonary[str(key)]\n",
    "        print(key)\n",
    "        csv_zip.writestr(key+\".csv\", dataframe_to_write.to_csv())\n",
    "\n",
    "print(\"Exported csvs to zip.\")\n",
    "    "
   ]
  },
  {
   "cell_type": "code",
   "execution_count": null,
   "id": "93effd91",
   "metadata": {},
   "outputs": [],
   "source": []
  }
 ],
 "metadata": {
  "kernelspec": {
   "display_name": "techchallenge",
   "language": "python",
   "name": "techchallenge"
  },
  "language_info": {
   "codemirror_mode": {
    "name": "ipython",
    "version": 3
   },
   "file_extension": ".py",
   "mimetype": "text/x-python",
   "name": "python",
   "nbconvert_exporter": "python",
   "pygments_lexer": "ipython3",
   "version": "3.9.0"
  }
 },
 "nbformat": 4,
 "nbformat_minor": 5
}
